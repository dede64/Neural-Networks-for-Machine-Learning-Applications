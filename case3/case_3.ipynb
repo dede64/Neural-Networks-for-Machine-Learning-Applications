{
 "cells": [
  {
   "cell_type": "markdown",
   "id": "fb02be21-9055-4696-9126-4e1558ac3416",
   "metadata": {},
   "source": [
    "# Assignment: Case 3. Patient Drug Review\n",
    "**Neural Networks for Machine Learning Applications, Spring 2022**<br>\n",
    "31.03.2022<br>\n",
    "Daniel Ridzon, Melany Marcias, Ha Do<br>\n",
    "Metropolia University of Applied Sciences"
   ]
  },
  {
   "cell_type": "markdown",
   "id": "ce573862-1d38-4e7f-a151-6e08da55985e",
   "metadata": {},
   "source": [
    "## Introduction"
   ]
  },
  {
   "cell_type": "markdown",
   "id": "5e50603d-556e-4d80-bbd6-e1d7a4961ac2",
   "metadata": {},
   "source": [
    "In this notebook we will create 3 different neural network models for processing text reviews of drugs and from them we will predict numeric score which drug users included with the review."
   ]
  },
  {
   "cell_type": "markdown",
   "id": "809c1d2a-ad47-48c7-b7ba-b2b58f1535c3",
   "metadata": {},
   "source": [
    "## Detailed task assignment\n",
    "> Your task is to use the methods of text processing and to experiment with recurrent and/or\n",
    "convolutional (1D) neural networks to create a classifier for a collection of patient drug reviews\n",
    "extracted from Drugs.com. Drugs.com is a comprehensive source of drug information online.\n",
    "The original dataset is explained in Grässer et al (2018) article.\n",
    "\n",
    ">The task is to build a classifier to address the following question:\n",
    ">- Can you predict the rating of the drug based on the review?\n",
    "\n",
    ">Following the article mentioned above, simplify the rating labels down to just three different\n",
    "classes: “negative” (rating < 5), “neutral” (rating 5 or 6) and “positive” (rating > 6). After this,\n",
    "**you should build a multiclass classifier to predict these three classes (negative, neutral, positive)\n",
    "from the content of the written review.**\n",
    "\n",
    ">To assess the performance of your classifier, you should evaluate your model with test data,\n",
    "and present the full confusion matrix together with the classification report and the most\n",
    "relevant metrics (accuracy + Cohen’s kappa) of this evaluation, with appropriate interpretations\n",
    "(compare your results to the original article, Grässer et al. Table 2, p. 124).\n",
    "\n",
    ">Download the KUC Hackathon Winter 2018 dataset from the Hackathon’s homepage:\n",
    "https://www.kaggle.com/jessicali9530/kuc-hackathon-winter-2018 or use the Kaggle\n",
    "environment to build your Notebook. The dataset is already split into training and test sets. Use\n",
    "pandas to read the data."
   ]
  },
  {
   "cell_type": "markdown",
   "id": "e311eb6f-bd76-418a-a850-0003944f70bf",
   "metadata": {},
   "source": [
    "(recurrent NN)"
   ]
  },
  {
   "cell_type": "markdown",
   "id": "9e714a82-af54-4c18-a888-bf53a1ad4000",
   "metadata": {},
   "source": [
    "# Implementation"
   ]
  },
  {
   "cell_type": "markdown",
   "id": "7af68199-8976-4413-b8bc-243c4bd7a0a9",
   "metadata": {},
   "source": [
    "## Importing required libraries"
   ]
  },
  {
   "cell_type": "code",
   "execution_count": 24,
   "id": "8431d3b4-bc19-487b-a5df-f871bd500769",
   "metadata": {},
   "outputs": [
    {
     "name": "stdout",
     "output_type": "stream",
     "text": [
      "numpy: 1.20.3\n",
      "pandas: 1.3.4\n",
      "matplotlib: 3.4.3\n",
      "nltk: 3.6.5\n",
      "tensorflow: 2.7.0\n",
      "keras: 2.7.0\n"
     ]
    }
   ],
   "source": [
    "import numpy as np\n",
    "import pandas as pd\n",
    "import keras\n",
    "import matplotlib\n",
    "import nltk\n",
    "import time\n",
    "import csv\n",
    "import tensorflow as tf\n",
    "\n",
    "from matplotlib import style, pyplot as plt\n",
    "from nltk.sentiment.vader import SentimentIntensityAnalyzer\n",
    "from sklearn.feature_extraction.text import TfidfVectorizer\n",
    "from sklearn.metrics import confusion_matrix\n",
    "from sklearn.naive_bayes import MultinomialNB\n",
    "from sklearn.ensemble import RandomForestClassifier\n",
    "from tensorflow.keras.models import Sequential\n",
    "from tensorflow.keras.layers import Dense, Input, Activation, Embedding, Dropout, SimpleRNN, Flatten, Bidirectional\n",
    "from tensorflow.keras.preprocessing.sequence import pad_sequences\n",
    "from tensorflow.keras.preprocessing.text import Tokenizer\n",
    "from tensorflow.keras.utils import to_categorical\n",
    "from warnings import simplefilter\n",
    "\n",
    "style.use(\"ggplot\")\n",
    "\n",
    "print(f\"numpy: {np.__version__}\")\n",
    "print(f\"pandas: {pd.__version__}\")\n",
    "print(f\"matplotlib: {matplotlib.__version__}\")\n",
    "print(f\"nltk: {nltk.__version__}\")\n",
    "print(f\"tensorflow: {tf.__version__}\")\n",
    "print(f\"keras: {keras.__version__}\")"
   ]
  },
  {
   "cell_type": "markdown",
   "id": "830df466-9ba1-45a0-8398-d8518cc91f89",
   "metadata": {},
   "source": [
    "## Constants"
   ]
  },
  {
   "cell_type": "code",
   "execution_count": 2,
   "id": "04d01cd0-54fe-41d2-8540-0618ea64cd89",
   "metadata": {},
   "outputs": [],
   "source": [
    "# Training settings\n",
    "random_seed = 42\n",
    "VERBOSE = 1  # 0 to turn of debugging messages while training.\n",
    "EPOCHS = 20  # number of epochs per model training.\n",
    "BATCH_SIZE = 512\n",
    "\n",
    "# Ignore tf performance warnings\n",
    "simplefilter(action='ignore', category=FutureWarning)"
   ]
  },
  {
   "cell_type": "markdown",
   "id": "e57c6c54-0de6-41fa-ac3e-04c0d9c1bfdf",
   "metadata": {},
   "source": [
    "## Load the dataset"
   ]
  },
  {
   "cell_type": "code",
   "execution_count": 3,
   "id": "fe253a0f-124b-4a98-b9a3-453d4f05616b",
   "metadata": {},
   "outputs": [
    {
     "name": "stdout",
     "output_type": "stream",
     "text": [
      "Train dataset\n",
      "                count           mean           std  min      25%       50%  \\\n",
      "uniqueID     161297.0  115923.585305  67004.445170  2.0  58063.0  115744.0   \n",
      "rating       161297.0       6.994377      3.272329  1.0      5.0       8.0   \n",
      "usefulCount  161297.0      28.004755     36.403742  0.0      6.0      16.0   \n",
      "\n",
      "                  75%       max  \n",
      "uniqueID     173776.0  232291.0  \n",
      "rating           10.0      10.0  \n",
      "usefulCount      36.0    1291.0  \n",
      "\n",
      "\n",
      "Test dataset\n",
      "               count           mean           std  min      25%       50%  \\\n",
      "uniqueID     53766.0  116386.701187  67017.739881  0.0  58272.5  116248.5   \n",
      "rating       53766.0       6.976900      3.285207  1.0      4.0       8.0   \n",
      "usefulCount  53766.0      27.989752     36.172833  0.0      6.0      16.0   \n",
      "\n",
      "                   75%       max  \n",
      "uniqueID     174586.75  232284.0  \n",
      "rating           10.00      10.0  \n",
      "usefulCount      36.00     949.0  \n"
     ]
    }
   ],
   "source": [
    "# Load the dataset into the pandas dataframe object.\n",
    "df_test = pd.read_csv(\"drugsComTest_raw.csv\", sep=\",\", engine=\"python\", quoting=csv.QUOTE_ALL)\n",
    "df_train = pd.read_csv(\"drugsComTrain_raw.csv\", sep=\",\", engine=\"python\", quoting=csv.QUOTE_ALL)\n",
    "\n",
    "# df_train = df_train.sample(15000, random_state = random_seed)  # TODO delete for final training\n",
    "\n",
    "# Print info about the dataset.\n",
    "print(f\"Train dataset\\n{df_train.describe().T}\\n\\n\")\n",
    "print(f\"Test dataset\\n{df_test.describe().T}\")"
   ]
  },
  {
   "cell_type": "code",
   "execution_count": 4,
   "id": "1c18476f-f65d-425d-ae84-ec53cb73e9f2",
   "metadata": {},
   "outputs": [
    {
     "data": {
      "text/html": [
       "<div>\n",
       "<style scoped>\n",
       "    .dataframe tbody tr th:only-of-type {\n",
       "        vertical-align: middle;\n",
       "    }\n",
       "\n",
       "    .dataframe tbody tr th {\n",
       "        vertical-align: top;\n",
       "    }\n",
       "\n",
       "    .dataframe thead th {\n",
       "        text-align: right;\n",
       "    }\n",
       "</style>\n",
       "<table border=\"1\" class=\"dataframe\">\n",
       "  <thead>\n",
       "    <tr style=\"text-align: right;\">\n",
       "      <th></th>\n",
       "      <th>uniqueID</th>\n",
       "      <th>drugName</th>\n",
       "      <th>condition</th>\n",
       "      <th>review</th>\n",
       "      <th>rating</th>\n",
       "      <th>date</th>\n",
       "      <th>usefulCount</th>\n",
       "    </tr>\n",
       "  </thead>\n",
       "  <tbody>\n",
       "    <tr>\n",
       "      <th>0</th>\n",
       "      <td>206461</td>\n",
       "      <td>Valsartan</td>\n",
       "      <td>Left Ventricular Dysfunction</td>\n",
       "      <td>\"It has no side effect, I take it in combinati...</td>\n",
       "      <td>9</td>\n",
       "      <td>20-May-12</td>\n",
       "      <td>27</td>\n",
       "    </tr>\n",
       "    <tr>\n",
       "      <th>1</th>\n",
       "      <td>95260</td>\n",
       "      <td>Guanfacine</td>\n",
       "      <td>ADHD</td>\n",
       "      <td>\"My son is halfway through his fourth week of ...</td>\n",
       "      <td>8</td>\n",
       "      <td>27-Apr-10</td>\n",
       "      <td>192</td>\n",
       "    </tr>\n",
       "    <tr>\n",
       "      <th>2</th>\n",
       "      <td>92703</td>\n",
       "      <td>Lybrel</td>\n",
       "      <td>Birth Control</td>\n",
       "      <td>\"I used to take another oral contraceptive, wh...</td>\n",
       "      <td>5</td>\n",
       "      <td>14-Dec-09</td>\n",
       "      <td>17</td>\n",
       "    </tr>\n",
       "    <tr>\n",
       "      <th>3</th>\n",
       "      <td>138000</td>\n",
       "      <td>Ortho Evra</td>\n",
       "      <td>Birth Control</td>\n",
       "      <td>\"This is my first time using any form of birth...</td>\n",
       "      <td>8</td>\n",
       "      <td>3-Nov-15</td>\n",
       "      <td>10</td>\n",
       "    </tr>\n",
       "    <tr>\n",
       "      <th>4</th>\n",
       "      <td>35696</td>\n",
       "      <td>Buprenorphine / naloxone</td>\n",
       "      <td>Opiate Dependence</td>\n",
       "      <td>\"Suboxone has completely turned my life around...</td>\n",
       "      <td>9</td>\n",
       "      <td>27-Nov-16</td>\n",
       "      <td>37</td>\n",
       "    </tr>\n",
       "  </tbody>\n",
       "</table>\n",
       "</div>"
      ],
      "text/plain": [
       "   uniqueID                  drugName                     condition  \\\n",
       "0    206461                 Valsartan  Left Ventricular Dysfunction   \n",
       "1     95260                Guanfacine                          ADHD   \n",
       "2     92703                    Lybrel                 Birth Control   \n",
       "3    138000                Ortho Evra                 Birth Control   \n",
       "4     35696  Buprenorphine / naloxone             Opiate Dependence   \n",
       "\n",
       "                                              review  rating       date  \\\n",
       "0  \"It has no side effect, I take it in combinati...       9  20-May-12   \n",
       "1  \"My son is halfway through his fourth week of ...       8  27-Apr-10   \n",
       "2  \"I used to take another oral contraceptive, wh...       5  14-Dec-09   \n",
       "3  \"This is my first time using any form of birth...       8   3-Nov-15   \n",
       "4  \"Suboxone has completely turned my life around...       9  27-Nov-16   \n",
       "\n",
       "   usefulCount  \n",
       "0           27  \n",
       "1          192  \n",
       "2           17  \n",
       "3           10  \n",
       "4           37  "
      ]
     },
     "execution_count": 4,
     "metadata": {},
     "output_type": "execute_result"
    }
   ],
   "source": [
    "df_train.head(5)"
   ]
  },
  {
   "cell_type": "markdown",
   "id": "9a2cab93-9ef4-4e1f-9269-e9c478733d4f",
   "metadata": {},
   "source": [
    "### Basic dataset observations\n",
    "Training dataset has 161 000 samples and test dataset has 53 000 samples.  \n",
    "\n",
    "Dataset also contains columns which we don't need, so we will drop them in the next phase. After that we will rescale rating column so it ranges just between categories 0, 1 and 2. (1-4: 0, 5-7: 1, 8-10: 2)"
   ]
  },
  {
   "cell_type": "markdown",
   "id": "92193949-4c61-434b-b751-9bd6f2eafa1e",
   "metadata": {},
   "source": [
    "## Preprocessing"
   ]
  },
  {
   "cell_type": "markdown",
   "id": "af076a95-9555-4c50-889f-261194a2c862",
   "metadata": {},
   "source": [
    "### Dropping useless columns\n",
    "Here we dropped every column except review and rating from the dataset, as we don't need them."
   ]
  },
  {
   "cell_type": "code",
   "execution_count": 5,
   "id": "f391d1a1-eca3-42e6-9960-85cbab24ac85",
   "metadata": {},
   "outputs": [
    {
     "data": {
      "text/html": [
       "<div>\n",
       "<style scoped>\n",
       "    .dataframe tbody tr th:only-of-type {\n",
       "        vertical-align: middle;\n",
       "    }\n",
       "\n",
       "    .dataframe tbody tr th {\n",
       "        vertical-align: top;\n",
       "    }\n",
       "\n",
       "    .dataframe thead th {\n",
       "        text-align: right;\n",
       "    }\n",
       "</style>\n",
       "<table border=\"1\" class=\"dataframe\">\n",
       "  <thead>\n",
       "    <tr style=\"text-align: right;\">\n",
       "      <th></th>\n",
       "      <th>review</th>\n",
       "      <th>rating</th>\n",
       "    </tr>\n",
       "  </thead>\n",
       "  <tbody>\n",
       "    <tr>\n",
       "      <th>0</th>\n",
       "      <td>\"It has no side effect, I take it in combinati...</td>\n",
       "      <td>9</td>\n",
       "    </tr>\n",
       "    <tr>\n",
       "      <th>1</th>\n",
       "      <td>\"My son is halfway through his fourth week of ...</td>\n",
       "      <td>8</td>\n",
       "    </tr>\n",
       "    <tr>\n",
       "      <th>2</th>\n",
       "      <td>\"I used to take another oral contraceptive, wh...</td>\n",
       "      <td>5</td>\n",
       "    </tr>\n",
       "    <tr>\n",
       "      <th>3</th>\n",
       "      <td>\"This is my first time using any form of birth...</td>\n",
       "      <td>8</td>\n",
       "    </tr>\n",
       "    <tr>\n",
       "      <th>4</th>\n",
       "      <td>\"Suboxone has completely turned my life around...</td>\n",
       "      <td>9</td>\n",
       "    </tr>\n",
       "  </tbody>\n",
       "</table>\n",
       "</div>"
      ],
      "text/plain": [
       "                                              review  rating\n",
       "0  \"It has no side effect, I take it in combinati...       9\n",
       "1  \"My son is halfway through his fourth week of ...       8\n",
       "2  \"I used to take another oral contraceptive, wh...       5\n",
       "3  \"This is my first time using any form of birth...       8\n",
       "4  \"Suboxone has completely turned my life around...       9"
      ]
     },
     "execution_count": 5,
     "metadata": {},
     "output_type": "execute_result"
    }
   ],
   "source": [
    "df_train = df_train[[\"review\", \"rating\"]]\n",
    "df_test = df_test[[\"review\", \"rating\"]]\n",
    "\n",
    "df_train.head(5)"
   ]
  },
  {
   "cell_type": "markdown",
   "id": "830f4bfd-5f7a-41da-800d-cb7eb9f17fa2",
   "metadata": {},
   "source": [
    "### Convert rating values to 3 categories\n",
    "At this phase we converted rating column from range 1-10 to 0-2"
   ]
  },
  {
   "cell_type": "code",
   "execution_count": 6,
   "id": "04857e80-0e5d-4896-b7f2-96593bf2f61e",
   "metadata": {},
   "outputs": [
    {
     "data": {
      "text/html": [
       "<div>\n",
       "<style scoped>\n",
       "    .dataframe tbody tr th:only-of-type {\n",
       "        vertical-align: middle;\n",
       "    }\n",
       "\n",
       "    .dataframe tbody tr th {\n",
       "        vertical-align: top;\n",
       "    }\n",
       "\n",
       "    .dataframe thead th {\n",
       "        text-align: right;\n",
       "    }\n",
       "</style>\n",
       "<table border=\"1\" class=\"dataframe\">\n",
       "  <thead>\n",
       "    <tr style=\"text-align: right;\">\n",
       "      <th></th>\n",
       "      <th>review</th>\n",
       "      <th>rating</th>\n",
       "    </tr>\n",
       "  </thead>\n",
       "  <tbody>\n",
       "    <tr>\n",
       "      <th>0</th>\n",
       "      <td>\"It has no side effect, I take it in combinati...</td>\n",
       "      <td>2</td>\n",
       "    </tr>\n",
       "    <tr>\n",
       "      <th>1</th>\n",
       "      <td>\"My son is halfway through his fourth week of ...</td>\n",
       "      <td>2</td>\n",
       "    </tr>\n",
       "    <tr>\n",
       "      <th>2</th>\n",
       "      <td>\"I used to take another oral contraceptive, wh...</td>\n",
       "      <td>1</td>\n",
       "    </tr>\n",
       "    <tr>\n",
       "      <th>3</th>\n",
       "      <td>\"This is my first time using any form of birth...</td>\n",
       "      <td>2</td>\n",
       "    </tr>\n",
       "    <tr>\n",
       "      <th>4</th>\n",
       "      <td>\"Suboxone has completely turned my life around...</td>\n",
       "      <td>2</td>\n",
       "    </tr>\n",
       "  </tbody>\n",
       "</table>\n",
       "</div>"
      ],
      "text/plain": [
       "                                              review rating\n",
       "0  \"It has no side effect, I take it in combinati...      2\n",
       "1  \"My son is halfway through his fourth week of ...      2\n",
       "2  \"I used to take another oral contraceptive, wh...      1\n",
       "3  \"This is my first time using any form of birth...      2\n",
       "4  \"Suboxone has completely turned my life around...      2"
      ]
     },
     "execution_count": 6,
     "metadata": {},
     "output_type": "execute_result"
    }
   ],
   "source": [
    "# Function to convert the values to categories\n",
    "def convert_rating(rating):\n",
    "    \n",
    "    if rating < 5:\n",
    "        return 0\n",
    "    \n",
    "    if rating >= 8:\n",
    "        return 2\n",
    "\n",
    "    return 1\n",
    "\n",
    "\n",
    "# Apply the function\n",
    "df_train[\"rating\"] = df_train.apply(lambda row : convert_rating(row[\"rating\"]), axis = 1)\n",
    "df_test[\"rating\"] = df_test.apply(lambda row : convert_rating(row[\"rating\"]), axis = 1)\n",
    "\n",
    "# Convert column to categorical\n",
    "df_train[\"rating\"] = df_train.rating.astype(\"category\")\n",
    "df_test[\"rating\"] = df_test.rating.astype(\"category\")\n",
    "\n",
    "# Check the result\n",
    "df_train.head(5)"
   ]
  },
  {
   "cell_type": "markdown",
   "id": "94844380-51c3-4c83-a53c-9a0e4a1324c5",
   "metadata": {},
   "source": [
    "### Rating distribution after categorizing ratings."
   ]
  },
  {
   "cell_type": "code",
   "execution_count": 7,
   "id": "76d0418f-743e-4c8c-a851-d01f271bf73c",
   "metadata": {},
   "outputs": [
    {
     "data": {
      "image/png": "[encoded data removed]",
      "text/plain": [
       "<Figure size 432x288 with 1 Axes>"
      ]
     },
     "metadata": {},
     "output_type": "display_data"
    }
   ],
   "source": [
    "df_train.rating.hist(color=\"skyblue\")\n",
    "plt.title(\"Distribution of rating across the classes\")\n",
    "plt.xlabel(\"Rating\")\n",
    "plt.ylabel(\"Count\")\n",
    "plt.xticks([i for i in range(0, 3)])\n",
    "plt.show()"
   ]
  },
  {
   "cell_type": "markdown",
   "id": "8a67e765-d6ce-446f-84aa-b3b18ac21beb",
   "metadata": {
    "tags": []
   },
   "source": [
    "#### Rating distribution observation\n",
    "Target classes are not equally distributed, we will need to account for this training the model, by using class weights.  \n",
    "Next we will compute the class weights."
   ]
  },
  {
   "cell_type": "code",
   "execution_count": 8,
   "id": "3205e5eb-52f7-4c96-afd7-a7315ae49902",
   "metadata": {},
   "outputs": [
    {
     "name": "stdout",
     "output_type": "stream",
     "text": [
      "all: 161297, 0: 40075, 1: 23812, 2: 97410\n"
     ]
    },
    {
     "data": {
      "text/plain": [
       "{0: 0.7515452860251586, 1: 0.852371711811131, 2: 0.3960830021637104}"
      ]
     },
     "execution_count": 8,
     "metadata": {},
     "output_type": "execute_result"
    }
   ],
   "source": [
    "cnt_all = df_train[\"rating\"].count()\n",
    "cnt_0 = df_train[\"rating\"].value_counts().sort_index(ascending=True)[0]\n",
    "cnt_1 = df_train[\"rating\"].value_counts().sort_index(ascending=True)[1]\n",
    "cnt_2 = df_train[\"rating\"].value_counts().sort_index(ascending=True)[2]\n",
    "\n",
    "print(f\"all: {cnt_all}, 0: {cnt_0}, 1: {cnt_1}, 2: {cnt_2}\")\n",
    "\n",
    "class_weights = {\n",
    "    0: 1 - cnt_0 / cnt_all,\n",
    "    1: 1 - cnt_1 / cnt_all,\n",
    "    2: 1 - cnt_2 / cnt_all\n",
    "}\n",
    "\n",
    "class_weights"
   ]
  },
  {
   "cell_type": "markdown",
   "id": "0aaaef0c-e900-4204-89b2-3bda2d842ee3",
   "metadata": {},
   "source": [
    "### Split dataframes to Features and Labels"
   ]
  },
  {
   "cell_type": "code",
   "execution_count": 9,
   "id": "a268a67d-58fc-4f88-8f22-be0474597847",
   "metadata": {},
   "outputs": [
    {
     "name": "stdout",
     "output_type": "stream",
     "text": [
      "                                              review\n",
      "0  \"It has no side effect, I take it in combinati...\n",
      "1  \"My son is halfway through his fourth week of ...\n",
      "2  \"I used to take another oral contraceptive, wh...\n",
      "3  \"This is my first time using any form of birth...\n",
      "4  \"Suboxone has completely turned my life around...\n",
      "[2 2 1 2 2]\n"
     ]
    }
   ],
   "source": [
    "train_features = df_train.copy()\n",
    "test_features = df_test.copy()\n",
    "\n",
    "train_labels = np.array(train_features.pop(\"rating\"))\n",
    "test_labels = np.array(test_features.pop(\"rating\"))\n",
    "\n",
    "print(train_features[:5])\n",
    "print(train_labels[:5])"
   ]
  },
  {
   "cell_type": "markdown",
   "id": "3e9aca0f-8e00-4e71-b38d-8224992b7fc1",
   "metadata": {},
   "source": [
    "### One hot encode the labels\n",
    "Because the target class is categorical, we should one hot encode the target class."
   ]
  },
  {
   "cell_type": "code",
   "execution_count": 10,
   "id": "d89f7fbb-ecca-4c8f-ac3c-6df8f43af0b7",
   "metadata": {},
   "outputs": [
    {
     "name": "stdout",
     "output_type": "stream",
     "text": [
      "[[0. 0. 1.]\n",
      " [0. 0. 1.]\n",
      " [0. 1. 0.]\n",
      " [0. 0. 1.]\n",
      " [0. 0. 1.]]\n"
     ]
    }
   ],
   "source": [
    "train_labels = to_categorical(train_labels)\n",
    "test_labels = to_categorical(test_labels)\n",
    "\n",
    "print(train_labels[:5])"
   ]
  },
  {
   "cell_type": "markdown",
   "id": "e6c474e6-2ff6-451d-8554-be29ea818b69",
   "metadata": {},
   "source": [
    "## Text preprocessing"
   ]
  },
  {
   "cell_type": "markdown",
   "id": "c09a61c1-2875-4786-9349-edc01228df38",
   "metadata": {},
   "source": [
    "### Tokenize the reviews\n",
    "Now we will tokenize the reviews into tokens of length 1 (Each word will be one token)."
   ]
  },
  {
   "cell_type": "code",
   "execution_count": 11,
   "id": "cd921c68-ed91-4008-944c-5c63ab5ad9f8",
   "metadata": {},
   "outputs": [
    {
     "name": "stdout",
     "output_type": "stream",
     "text": [
      "Found 51429 unique tokens.\n",
      "Wall time: 18.1 s\n"
     ]
    }
   ],
   "source": [
    "%%time\n",
    "\n",
    "# Define, how many tokens will fit inside the dictionary.\n",
    "max_features = 5000\n",
    "\n",
    "# Define how many tokens can fit inside one sequence. (How long review can we process).\n",
    "sequence_length = 200\n",
    "\n",
    "# Tokenize the text\n",
    "samples = train_features[\"review\"]\n",
    "tokenizer = Tokenizer(num_words = max_features)\n",
    "tokenizer.fit_on_texts(samples)\n",
    "\n",
    "# Convert text to sequences\n",
    "sequences = tokenizer.texts_to_sequences(samples)\n",
    "\n",
    "# Print out the number of unique tokens\n",
    "word_index = tokenizer.word_index\n",
    "print(f\"Found {len(word_index)} unique tokens.\")"
   ]
  },
  {
   "cell_type": "markdown",
   "id": "807920ed-7ab5-4f23-ba63-045017c96ea2",
   "metadata": {},
   "source": [
    "### Padding sequences\n",
    "We need to pad the tokenized reviews, so they all have the same amount of tokens."
   ]
  },
  {
   "cell_type": "code",
   "execution_count": 12,
   "id": "c4d02100-3ba4-4f34-a1d3-d58375972752",
   "metadata": {},
   "outputs": [
    {
     "name": "stdout",
     "output_type": "stream",
     "text": [
      "Shape of data tensor:(161297, 200)\n",
      "[   0    0    0    0    0    0    0    0    0    0    0    0    0    0\n",
      "    0    0    0    0    0    0    0    0    0    0    0    0    0    0\n",
      "    0    0    0    0    0    0    0    0    0    0    0    0    0    0\n",
      "    0    0    0    0    0    0    0    0    0    0    0    0    0    0\n",
      "    0    0    0    6  638   19 3380  225  508 1652   76   12 3254  262\n",
      "  404 1226   62  162  373   14  145   76   62  162   49   36    3 2311\n",
      "  148  162   86   54   13    9  112   55  162  156  914   52   59   12\n",
      "  333   10   57 3388    2  778    9  648  227  146   13    7  289  505\n",
      "   61  512 2716   57 2133    9  533    1  651  508   78   13 1419  206\n",
      "    2  229  272    4  784    5   59    7  126   55  215  217  162   87\n",
      "   26  512    2   21  160   53   15    3  206    3  145  112   55   11\n",
      "   25  299  387  162   19  102   71  106  169  162   19  261  532    7\n",
      "  120  214  261 3388  162   19 2224   37    3  278  162  371  394  508\n",
      " 1951   19  107   73  262   11  134  221  248  417    2   24  170   14\n",
      "   19    3  212  312]\n"
     ]
    }
   ],
   "source": [
    "data = pad_sequences(sequences, maxlen = sequence_length)\n",
    "print(f\"Shape of data tensor:{data.shape}\")\n",
    "print(data[1])"
   ]
  },
  {
   "cell_type": "markdown",
   "id": "78f861b2-35ce-44c1-8858-36af6784c518",
   "metadata": {},
   "source": [
    "## Modelling\n",
    "In this example we created Sequential NN model, starting with embedding layer of 128 dimension. After this layer, we added .25 dropout layer and bidirectional SimpleRNN layer. After the RNN layer we added another .25 dropout layer and 1 hidden dense layer with 10 neurons."
   ]
  },
  {
   "cell_type": "code",
   "execution_count": 16,
   "id": "e6f7c492-4866-48e7-9102-c7d8a8e58d50",
   "metadata": {},
   "outputs": [
    {
     "name": "stdout",
     "output_type": "stream",
     "text": [
      "Model: \"sequential\"\n",
      "_________________________________________________________________\n",
      " Layer (type)                Output Shape              Param #   \n",
      "=================================================================\n",
      " embedding (Embedding)       (None, None, 128)         640128    \n",
      "                                                                 \n",
      " dropout (Dropout)           (None, None, 128)         0         \n",
      "                                                                 \n",
      " bidirectional (Bidirectiona  (None, 256)              65792     \n",
      " l)                                                              \n",
      "                                                                 \n",
      " dropout_1 (Dropout)         (None, 256)               0         \n",
      "                                                                 \n",
      " flatten (Flatten)           (None, 256)               0         \n",
      "                                                                 \n",
      " dense (Dense)               (None, 10)                2570      \n",
      "                                                                 \n",
      " dense_1 (Dense)             (None, 3)                 33        \n",
      "                                                                 \n",
      "=================================================================\n",
      "Total params: 708,523\n",
      "Trainable params: 708,523\n",
      "Non-trainable params: 0\n",
      "_________________________________________________________________\n"
     ]
    }
   ],
   "source": [
    "embedding_dim = 128\n",
    "\n",
    "model2 = Sequential([\n",
    "    Embedding(max_features + 1, embedding_dim),\n",
    "    Dropout(0.25),\n",
    "    Bidirectional(SimpleRNN(units=embedding_dim, input_shape=(1,1), activation=\"relu\")),\n",
    "    Dropout(0.4),\n",
    "    Flatten(),\n",
    "    Dense(10, activation=\"relu\"),\n",
    "    Dense(3, activation = 'softmax')\n",
    "])\n",
    "\n",
    "# Compile\n",
    "model2.compile(\n",
    "    loss = 'categorical_crossentropy',\n",
    "    optimizer = 'rmsprop',\n",
    "    metrics = ['acc']\n",
    ")\n",
    "\n",
    "model2.summary()"
   ]
  },
  {
   "cell_type": "markdown",
   "id": "3dcc60f0-cfff-42cf-b5d2-6dc352f17baf",
   "metadata": {},
   "source": [
    "## Training"
   ]
  },
  {
   "cell_type": "code",
   "execution_count": 17,
   "id": "e8ae6fce-fade-489d-9691-2a5d0683e9a2",
   "metadata": {},
   "outputs": [
    {
     "name": "stdout",
     "output_type": "stream",
     "text": [
      "Epoch 1/20\n",
      "253/253 [==============================] - 363s 1s/step - loss: 0.5616 - acc: 0.6188 - val_loss: 0.8556 - val_acc: 0.6479\n",
      "Epoch 2/20\n",
      "253/253 [==============================] - 367s 1s/step - loss: 0.5057 - acc: 0.6918 - val_loss: 1.0421 - val_acc: 0.5520\n",
      "Epoch 3/20\n",
      "253/253 [==============================] - 386s 2s/step - loss: 0.4613 - acc: 0.7098 - val_loss: 0.7483 - val_acc: 0.7177\n",
      "Epoch 4/20\n",
      "253/253 [==============================] - 377s 1s/step - loss: 50253220.0000 - acc: 0.7241 - val_loss: 0.9231 - val_acc: 0.6869\n",
      "Epoch 5/20\n",
      "253/253 [==============================] - 386s 2s/step - loss: 0.4282 - acc: 0.7351 - val_loss: 0.8294 - val_acc: 0.6914\n",
      "Epoch 6/20\n",
      "253/253 [==============================] - 374s 1s/step - loss: 248.9549 - acc: 0.7002 - val_loss: 0.8197 - val_acc: 0.6714\n",
      "Epoch 7/20\n",
      "253/253 [==============================] - 357s 1s/step - loss: 120860408.0000 - acc: 0.6937 - val_loss: 0.6683 - val_acc: 0.7356\n",
      "Epoch 8/20\n",
      "253/253 [==============================] - 356s 1s/step - loss: 0.4078 - acc: 0.7405 - val_loss: 0.6660 - val_acc: 0.7375\n",
      "Epoch 9/20\n",
      "253/253 [==============================] - 395s 2s/step - loss: 0.4621 - acc: 0.7352 - val_loss: 0.6841 - val_acc: 0.7296\n",
      "Epoch 10/20\n",
      "253/253 [==============================] - 347s 1s/step - loss: 0.4000 - acc: 0.7435 - val_loss: 0.8104 - val_acc: 0.6467\n",
      "Epoch 11/20\n",
      "253/253 [==============================] - 360s 1s/step - loss: 9473.7871 - acc: 0.7489 - val_loss: 0.6877 - val_acc: 0.7131\n",
      "Epoch 12/20\n",
      "253/253 [==============================] - 389s 2s/step - loss: 0.6686 - acc: 0.7424 - val_loss: 0.6616 - val_acc: 0.7410\n",
      "Epoch 13/20\n",
      "253/253 [==============================] - 342s 1s/step - loss: 25.9976 - acc: 0.7569 - val_loss: 0.6641 - val_acc: 0.7523\n",
      "Epoch 14/20\n",
      "253/253 [==============================] - 267s 1s/step - loss: 0.3750 - acc: 0.7570 - val_loss: 131.2081 - val_acc: 0.5234\n",
      "Epoch 15/20\n",
      "253/253 [==============================] - 265s 1s/step - loss: 2792593555456.0000 - acc: 0.7628 - val_loss: 0.6460 - val_acc: 0.7369\n",
      "Epoch 16/20\n",
      "253/253 [==============================] - 266s 1s/step - loss: 0.3573 - acc: 0.7672 - val_loss: 0.6701 - val_acc: 0.7380\n",
      "Epoch 17/20\n",
      "253/253 [==============================] - 266s 1s/step - loss: 0.3873 - acc: 0.7697 - val_loss: 0.6951 - val_acc: 0.7198\n",
      "Epoch 18/20\n",
      "253/253 [==============================] - 264s 1s/step - loss: 1886.1948 - acc: 0.7722 - val_loss: 0.6160 - val_acc: 0.7563\n",
      "Epoch 19/20\n",
      "253/253 [==============================] - 260s 1s/step - loss: 0.3432 - acc: 0.7775 - val_loss: 0.6656 - val_acc: 0.7252\n",
      "Epoch 20/20\n",
      "253/253 [==============================] - 260s 1s/step - loss: 43.6308 - acc: 0.7813 - val_loss: 0.6175 - val_acc: 0.7565\n",
      "Wall time: 1h 50min 45s\n"
     ]
    }
   ],
   "source": [
    "%%time\n",
    "history2 = model2.fit(\n",
    "    data,\n",
    "    train_labels,\n",
    "    batch_size = BATCH_SIZE,\n",
    "    epochs = EPOCHS,\n",
    "    validation_split=0.2,\n",
    "    class_weight=class_weights,\n",
    "    shuffle=True,\n",
    "    verbose = VERBOSE,\n",
    ")"
   ]
  },
  {
   "cell_type": "code",
   "execution_count": 19,
   "id": "c1556503-17bb-4ebf-9d1c-dfd57ebe405b",
   "metadata": {},
   "outputs": [
    {
     "data": {
      "image/png": "[encoded data removed]",
      "text/plain": [
       "<Figure size 432x288 with 1 Axes>"
      ]
     },
     "metadata": {},
     "output_type": "display_data"
    },
    {
     "data": {
      "image/png": "[encoded data removed]",
      "text/plain": [
       "<Figure size 432x288 with 1 Axes>"
      ]
     },
     "metadata": {},
     "output_type": "display_data"
    }
   ],
   "source": [
    "# Plot the accuracy and loss\n",
    "acc = history2.history['acc']\n",
    "val_acc = history2.history['val_acc']\n",
    "loss = history2.history['loss']\n",
    "val_loss = history2.history['val_loss']\n",
    "e = np.arange(len(acc)) + 1\n",
    "\n",
    "plt.plot(e, acc, label = 'train')\n",
    "plt.plot(e, val_acc, label = 'validation')\n",
    "plt.title('Training and validation accuracy')\n",
    "plt.xlabel('Epoch')\n",
    "plt.grid()\n",
    "plt.legend()\n",
    "\n",
    "plt.figure()\n",
    "\n",
    "plt.plot(e, loss, label = 'train')\n",
    "plt.plot(e, val_loss, label = 'validation')\n",
    "plt.title('Training and validation loss')\n",
    "plt.xlabel('Epoch')\n",
    "plt.grid()\n",
    "plt.legend()\n",
    "\n",
    "plt.show()"
   ]
  },
  {
   "cell_type": "markdown",
   "id": "7cca5ef1-400b-4059-bc32-2706c59a418b",
   "metadata": {},
   "source": [
    "## Training observations\n",
    "By using biderictional RNN we achieved validation accuracy of 75% on three class classifier."
   ]
  },
  {
   "cell_type": "markdown",
   "id": "2f38dcca-9837-455f-b08d-54953b00e4b2",
   "metadata": {},
   "source": [
    "## Save the model\n",
    "Here we saved the NN model into export file, which can be later laoded"
   ]
  },
  {
   "cell_type": "code",
   "execution_count": 25,
   "id": "6174f861-7fd3-4aed-9a3f-a7a30913e65e",
   "metadata": {},
   "outputs": [],
   "source": [
    "# Saving the model\n",
    "model2.save(\"case_3_model_bidRNN.h5\")\n",
    "\n",
    "# Command for loading the model from the save file. \n",
    "model2_save = keras.models.load_model(\"case_3_model_bidRNN.h5\")"
   ]
  }
 ],
 "metadata": {
  "kernelspec": {
   "display_name": "Python 3 (ipykernel)",
   "language": "python",
   "name": "python3"
  },
  "language_info": {
   "codemirror_mode": {
    "name": "ipython",
    "version": 3
   },
   "file_extension": ".py",
   "mimetype": "text/x-python",
   "name": "python",
   "nbconvert_exporter": "python",
   "pygments_lexer": "ipython3",
   "version": "3.9.7"
  }
 },
 "nbformat": 4,
 "nbformat_minor": 5
}
